{
 "cells": [
  {
   "cell_type": "markdown",
<<<<<<< HEAD
   "id": "789c5198",
   "metadata": {},
   "source": [
    "# Function"
=======
   "id": "24aaae9f",
   "metadata": {},
   "source": [
    "## Scope of Variable"
>>>>>>> 08ac1982def66bfe863604c879d597ceccbdd9a5
   ]
  },
  {
   "cell_type": "code",
   "execution_count": 1,
<<<<<<< HEAD
   "id": "70085461",
   "metadata": {},
   "outputs": [
    {
     "name": "stdout",
     "output_type": "stream",
     "text": [
      "Even Number\n"
     ]
    }
   ],
   "source": [
    "num=20\n",
    "if num %2==0:\n",
    "    print(\"Even Number\")\n",
    "else:\n",
    "    print(\"Odd Number\")"
   ]
  },
  {
   "cell_type": "code",
   "execution_count": 2,
   "id": "7345eba8",
   "metadata": {},
   "outputs": [],
   "source": [
    "def odd_even():\n",
    "    num=20\n",
    "    if num %2==0:\n",
    "        print(\"Even Number\")\n",
    "    else:\n",
    "        print(\"Odd Number\")"
   ]
  },
  {
   "cell_type": "code",
   "execution_count": 3,
   "id": "a2ce4183",
   "metadata": {},
   "outputs": [
    {
     "name": "stdout",
     "output_type": "stream",
     "text": [
      "Even Number\n"
     ]
    }
   ],
   "source": [
    "odd_even()"
   ]
  },
  {
   "cell_type": "code",
   "execution_count": 4,
   "id": "5e1b368c",
   "metadata": {},
   "outputs": [],
   "source": [
    "def sum(a,b):\n",
    "    return a+b"
   ]
  },
  {
   "cell_type": "code",
   "execution_count": 6,
   "id": "4d646df4",
=======
   "id": "48fb1d28",
>>>>>>> 08ac1982def66bfe863604c879d597ceccbdd9a5
   "metadata": {},
   "outputs": [
    {
     "data": {
      "text/plain": [
<<<<<<< HEAD
       "7"
      ]
     },
     "execution_count": 6,
=======
       "20"
      ]
     },
     "execution_count": 1,
>>>>>>> 08ac1982def66bfe863604c879d597ceccbdd9a5
     "metadata": {},
     "output_type": "execute_result"
    }
   ],
   "source": [
<<<<<<< HEAD
    "sum(3,4)"
=======
    "##### Local variable\n",
    "def sum():\n",
    "    x=10\n",
    "    y=10\n",
    "    return x+y\n",
    "sum()"
>>>>>>> 08ac1982def66bfe863604c879d597ceccbdd9a5
   ]
  },
  {
   "cell_type": "code",
<<<<<<< HEAD
   "execution_count": 8,
   "id": "5ae8d462",
   "metadata": {},
   "outputs": [
    {
     "ename": "TypeError",
     "evalue": "sum() missing 1 required positional argument: 'b'",
     "output_type": "error",
     "traceback": [
      "\u001b[1;31m---------------------------------------------------------------------------\u001b[0m",
      "\u001b[1;31mTypeError\u001b[0m                                 Traceback (most recent call last)",
      "\u001b[1;32m~\\AppData\\Local\\Temp\\ipykernel_12112\\2190682035.py\u001b[0m in \u001b[0;36m<module>\u001b[1;34m\u001b[0m\n\u001b[1;32m----> 1\u001b[1;33m \u001b[0msum\u001b[0m\u001b[1;33m(\u001b[0m\u001b[1;36m3\u001b[0m\u001b[1;33m)\u001b[0m\u001b[1;33m\u001b[0m\u001b[1;33m\u001b[0m\u001b[0m\n\u001b[0m",
      "\u001b[1;31mTypeError\u001b[0m: sum() missing 1 required positional argument: 'b'"
=======
   "execution_count": 2,
   "id": "06e57725",
   "metadata": {},
   "outputs": [
    {
     "ename": "NameError",
     "evalue": "name 'x' is not defined",
     "output_type": "error",
     "traceback": [
      "\u001b[1;31m---------------------------------------------------------------------------\u001b[0m",
      "\u001b[1;31mNameError\u001b[0m                                 Traceback (most recent call last)",
      "\u001b[1;32m~\\AppData\\Local\\Temp/ipykernel_17064/2061633581.py\u001b[0m in \u001b[0;36m<module>\u001b[1;34m\u001b[0m\n\u001b[0;32m      1\u001b[0m \u001b[1;31m# Accessign the local varible outside the fucntion\u001b[0m\u001b[1;33m\u001b[0m\u001b[1;33m\u001b[0m\u001b[0m\n\u001b[1;32m----> 2\u001b[1;33m \u001b[0mprint\u001b[0m\u001b[1;33m(\u001b[0m\u001b[0mx\u001b[0m\u001b[1;33m)\u001b[0m\u001b[1;33m\u001b[0m\u001b[1;33m\u001b[0m\u001b[0m\n\u001b[0m",
      "\u001b[1;31mNameError\u001b[0m: name 'x' is not defined"
>>>>>>> 08ac1982def66bfe863604c879d597ceccbdd9a5
     ]
    }
   ],
   "source": [
<<<<<<< HEAD
    "sum(3)"
=======
    "# Accessign the local varible outside the fucntion\n",
    "print(x)"
>>>>>>> 08ac1982def66bfe863604c879d597ceccbdd9a5
   ]
  },
  {
   "cell_type": "code",
<<<<<<< HEAD
   "execution_count": 14,
   "id": "b54c7eee",
   "metadata": {},
   "outputs": [],
   "source": [
    "var=sum(3,4)"
=======
   "execution_count": 3,
   "id": "644a9c6b",
   "metadata": {},
   "outputs": [
    {
     "data": {
      "text/plain": [
       "24"
      ]
     },
     "execution_count": 3,
     "metadata": {},
     "output_type": "execute_result"
    }
   ],
   "source": [
    "# GLobal Variabl\n",
    "x=20\n",
    "def sum():\n",
    "    x=10 # local variable\n",
    "    y=14\n",
    "    return x+y\n",
    "sum()\n"
>>>>>>> 08ac1982def66bfe863604c879d597ceccbdd9a5
   ]
  },
  {
   "cell_type": "code",
<<<<<<< HEAD
   "execution_count": 15,
   "id": "7f7b4295",
=======
   "execution_count": 4,
   "id": "145a9c8b",
>>>>>>> 08ac1982def66bfe863604c879d597ceccbdd9a5
   "metadata": {},
   "outputs": [
    {
     "name": "stdout",
     "output_type": "stream",
     "text": [
<<<<<<< HEAD
      "7\n"
=======
      "20\n"
>>>>>>> 08ac1982def66bfe863604c879d597ceccbdd9a5
     ]
    }
   ],
   "source": [
<<<<<<< HEAD
    "print(var)"
=======
    "# Accessing the global variable\n",
    "print(x)"
   ]
  },
  {
   "cell_type": "code",
   "execution_count": 8,
   "id": "2b4d8bae",
   "metadata": {},
   "outputs": [
    {
     "name": "stdout",
     "output_type": "stream",
     "text": [
      "Global Variable: 20\n"
     ]
    },
    {
     "ename": "NameError",
     "evalue": "name 'y' is not defined",
     "output_type": "error",
     "traceback": [
      "\u001b[1;31m---------------------------------------------------------------------------\u001b[0m",
      "\u001b[1;31mNameError\u001b[0m                                 Traceback (most recent call last)",
      "\u001b[1;32m~\\AppData\\Local\\Temp/ipykernel_17064/2109596351.py\u001b[0m in \u001b[0;36m<module>\u001b[1;34m\u001b[0m\n\u001b[0;32m      1\u001b[0m \u001b[1;31m# accessing the local variable\u001b[0m\u001b[1;33m\u001b[0m\u001b[1;33m\u001b[0m\u001b[0m\n\u001b[0;32m      2\u001b[0m \u001b[0mprint\u001b[0m\u001b[1;33m(\u001b[0m\u001b[1;34m\"Global Variable:\"\u001b[0m\u001b[1;33m,\u001b[0m\u001b[0mx\u001b[0m\u001b[1;33m)\u001b[0m  \u001b[1;31m# it will return the global variable\u001b[0m\u001b[1;33m\u001b[0m\u001b[1;33m\u001b[0m\u001b[0m\n\u001b[1;32m----> 3\u001b[1;33m \u001b[0mprint\u001b[0m\u001b[1;33m(\u001b[0m\u001b[1;34m\"Local Variable:\"\u001b[0m\u001b[1;33m,\u001b[0m\u001b[0my\u001b[0m\u001b[1;33m)\u001b[0m \u001b[1;31m# it will not reurn the local variable\u001b[0m\u001b[1;33m\u001b[0m\u001b[1;33m\u001b[0m\u001b[0m\n\u001b[0m",
      "\u001b[1;31mNameError\u001b[0m: name 'y' is not defined"
     ]
    }
   ],
   "source": [
    "# accessing the local variable\n",
    "print(\"Global Variable:\",x)  # it will return the global variable\n",
    "print(\"Local Variable:\",y) # it will not reurn the local variable"
   ]
  },
  {
   "cell_type": "markdown",
   "id": "bcdb1433",
   "metadata": {},
   "source": [
    "#####  Deleting the variable\n"
   ]
  },
  {
   "cell_type": "code",
   "execution_count": 9,
   "id": "85724930",
   "metadata": {},
   "outputs": [
    {
     "name": "stdout",
     "output_type": "stream",
     "text": [
      "10\n"
     ]
    }
   ],
   "source": [
    "no_of_chocolates=10\n",
    "print(no_of_chocolates)\n"
   ]
  },
  {
   "cell_type": "code",
   "execution_count": 10,
   "id": "10ac1c68",
   "metadata": {},
   "outputs": [
    {
     "ename": "NameError",
     "evalue": "name 'no_of_chocolates' is not defined",
     "output_type": "error",
     "traceback": [
      "\u001b[1;31m---------------------------------------------------------------------------\u001b[0m",
      "\u001b[1;31mNameError\u001b[0m                                 Traceback (most recent call last)",
      "\u001b[1;32m~\\AppData\\Local\\Temp/ipykernel_17064/2706672797.py\u001b[0m in \u001b[0;36m<module>\u001b[1;34m\u001b[0m\n\u001b[0;32m      1\u001b[0m \u001b[0mno_of_chocolates\u001b[0m\u001b[1;33m=\u001b[0m\u001b[1;36m10\u001b[0m\u001b[1;33m\u001b[0m\u001b[1;33m\u001b[0m\u001b[0m\n\u001b[0;32m      2\u001b[0m \u001b[1;32mdel\u001b[0m \u001b[0mno_of_chocolates\u001b[0m\u001b[1;33m\u001b[0m\u001b[1;33m\u001b[0m\u001b[0m\n\u001b[1;32m----> 3\u001b[1;33m \u001b[0mprint\u001b[0m\u001b[1;33m(\u001b[0m\u001b[0mno_of_chocolates\u001b[0m\u001b[1;33m)\u001b[0m\u001b[1;33m\u001b[0m\u001b[1;33m\u001b[0m\u001b[0m\n\u001b[0m",
      "\u001b[1;31mNameError\u001b[0m: name 'no_of_chocolates' is not defined"
     ]
    }
   ],
   "source": [
    "no_of_chocolates=10\n",
    "del no_of_chocolates\n",
    "print(no_of_chocolates)\n"
   ]
  },
  {
   "cell_type": "code",
   "execution_count": 11,
   "id": "3de6e0f7",
   "metadata": {},
   "outputs": [],
   "source": [
    "a=10"
   ]
  },
  {
   "cell_type": "code",
   "execution_count": 12,
   "id": "1206171f",
   "metadata": {},
   "outputs": [
    {
     "data": {
      "text/plain": [
       "2074131458640"
      ]
     },
     "execution_count": 12,
     "metadata": {},
     "output_type": "execute_result"
    }
   ],
   "source": [
    "id(a) # id() is used to identify the object id or identifier."
   ]
  },
  {
   "cell_type": "code",
   "execution_count": 13,
   "id": "2d6dd198",
   "metadata": {},
   "outputs": [],
   "source": [
    "b=10"
   ]
  },
  {
   "cell_type": "code",
   "execution_count": 14,
   "id": "6e22e41b",
   "metadata": {},
   "outputs": [
    {
     "data": {
      "text/plain": [
       "2074131458640"
      ]
     },
     "execution_count": 14,
     "metadata": {},
     "output_type": "execute_result"
    }
   ],
   "source": [
    "id(b)"
   ]
  },
  {
   "cell_type": "code",
   "execution_count": 30,
   "id": "15932c60",
   "metadata": {},
   "outputs": [
    {
     "name": "stdout",
     "output_type": "stream",
     "text": [
      "49\n"
     ]
    }
   ],
   "source": [
    "a='1'\n",
    "print(ord(a))"
   ]
  },
  {
   "cell_type": "code",
   "execution_count": 29,
   "id": "03da5ecb",
   "metadata": {},
   "outputs": [
    {
     "name": "stdout",
     "output_type": "stream",
     "text": [
      "97\n"
     ]
    }
   ],
   "source": [
    "a='a'\n",
    "print(ord(a))"
   ]
  },
  {
   "cell_type": "code",
   "execution_count": 19,
   "id": "15d131fd",
   "metadata": {},
   "outputs": [
    {
     "name": "stdout",
     "output_type": "stream",
     "text": [
      "Ascii value of character 'Y':  89\n",
      "Ascii value of character digit '5':  53\n"
     ]
    }
   ],
   "source": [
    "alphabet = ord('Y')\n",
    "number = ord('5')\n",
    "print(\"Ascii value of character 'Y': \",alphabet)\n",
    "print(\"Ascii value of character digit '5': \",number)\n"
>>>>>>> 08ac1982def66bfe863604c879d597ceccbdd9a5
   ]
  },
  {
   "cell_type": "code",
   "execution_count": null,
<<<<<<< HEAD
   "id": "3b0152b7",
   "metadata": {},
   "outputs": [],
   "source": []
  },
  {
   "cell_type": "code",
   "execution_count": 9,
   "id": "c9df423c",
   "metadata": {},
   "outputs": [],
   "source": [
    "def add(a,b):\n",
    "    print(a+b)"
   ]
  },
  {
   "cell_type": "code",
   "execution_count": 10,
   "id": "3d9fedc1",
   "metadata": {},
   "outputs": [
    {
     "name": "stdout",
     "output_type": "stream",
     "text": [
      "9\n"
     ]
    }
   ],
   "source": [
    "add(4,5)"
   ]
  },
  {
   "cell_type": "code",
   "execution_count": 11,
   "id": "3fc057cc",
   "metadata": {},
   "outputs": [
    {
     "name": "stdout",
     "output_type": "stream",
     "text": [
      "9\n"
     ]
    }
   ],
   "source": [
    "var=add(4,5)"
   ]
  },
  {
   "cell_type": "code",
   "execution_count": 13,
   "id": "7adefbb6",
   "metadata": {},
   "outputs": [
    {
     "name": "stdout",
     "output_type": "stream",
     "text": [
      "None\n"
     ]
    }
   ],
   "source": [
    "print(var)"
   ]
  },
  {
   "cell_type": "code",
   "execution_count": 18,
   "id": "93affe9d",
   "metadata": {},
   "outputs": [],
   "source": [
    "# positional argument - name \n",
    "# keyword argument - age --> where we have defiend the value of age \n",
    "\n",
    "def info(name,age=21):\n",
    "    print(\"My name is {} and my age is {}.\".format(name,age))"
   ]
  },
  {
   "cell_type": "code",
   "execution_count": 19,
   "id": "291d29a5",
   "metadata": {},
   "outputs": [
    {
     "name": "stdout",
     "output_type": "stream",
     "text": [
      "My name is Aditya and my age is 21.\n"
     ]
    }
   ],
   "source": [
    "info('Aditya')    # it will take age value as 21 default if age is not provided."
   ]
  },
  {
   "cell_type": "code",
   "execution_count": 20,
   "id": "1bc07b2d",
   "metadata": {},
   "outputs": [
    {
     "name": "stdout",
     "output_type": "stream",
     "text": [
      "My name is Kumar and my age is 23.\n"
     ]
    }
   ],
   "source": [
    "info(\"Kumar\",23)"
   ]
  },
  {
   "cell_type": "code",
   "execution_count": 21,
   "id": "0b6138d6",
   "metadata": {},
   "outputs": [
    {
     "ename": "TypeError",
     "evalue": "info() missing 1 required positional argument: 'name'",
     "output_type": "error",
     "traceback": [
      "\u001b[1;31m---------------------------------------------------------------------------\u001b[0m",
      "\u001b[1;31mTypeError\u001b[0m                                 Traceback (most recent call last)",
      "\u001b[1;32m~\\AppData\\Local\\Temp\\ipykernel_12112\\4193362206.py\u001b[0m in \u001b[0;36m<module>\u001b[1;34m\u001b[0m\n\u001b[1;32m----> 1\u001b[1;33m \u001b[0minfo\u001b[0m\u001b[1;33m(\u001b[0m\u001b[1;33m)\u001b[0m\u001b[1;33m\u001b[0m\u001b[1;33m\u001b[0m\u001b[0m\n\u001b[0m",
      "\u001b[1;31mTypeError\u001b[0m: info() missing 1 required positional argument: 'name'"
     ]
    }
   ],
   "source": [
    "info()"
   ]
  },
  {
   "cell_type": "code",
   "execution_count": 22,
   "id": "6840574e",
   "metadata": {},
   "outputs": [],
   "source": [
    "def bio(name,age):\n",
    "    return (\"my name is {} and my age is {}\".format(name,age))"
   ]
  },
  {
   "cell_type": "code",
   "execution_count": 23,
   "id": "d2f92e3a",
   "metadata": {},
   "outputs": [
    {
     "data": {
      "text/plain": [
       "'my name is Jon and my age is 45'"
      ]
     },
     "execution_count": 23,
     "metadata": {},
     "output_type": "execute_result"
    }
   ],
   "source": [
    "bio(\"Jon\",45)"
   ]
  },
  {
   "cell_type": "code",
   "execution_count": 24,
   "id": "408ede1a",
   "metadata": {},
   "outputs": [],
   "source": [
    "var=bio('abc',10)"
   ]
  },
  {
   "cell_type": "code",
   "execution_count": 25,
   "id": "550ffb21",
   "metadata": {},
   "outputs": [
    {
     "data": {
      "text/plain": [
       "'my name is abc and my age is 10'"
      ]
     },
     "execution_count": 25,
     "metadata": {},
     "output_type": "execute_result"
    }
   ],
   "source": [
    "var"
   ]
  },
  {
   "cell_type": "markdown",
   "id": "280a492e",
   "metadata": {},
   "source": [
    "## Args and Kwargs\n",
    "- Args is positional argument and kwards is keyword arguments.\n",
    "-- synatax : def function_name(*args,**kwargs) \n",
    "-- Hare you can also define any name instead of args and kwargs."
   ]
  },
  {
   "cell_type": "code",
   "execution_count": 33,
   "id": "313576f4",
   "metadata": {},
   "outputs": [],
   "source": [
    "def data(*args,**kwargs):\n",
    "    print(args)\n",
    "    print(kwargs)"
   ]
  },
  {
   "cell_type": "code",
   "execution_count": 34,
   "id": "eeef7f4b",
   "metadata": {},
   "outputs": [
    {
     "name": "stdout",
     "output_type": "stream",
     "text": [
      "()\n",
      "{}\n"
     ]
    }
   ],
   "source": [
    "data()"
   ]
  },
  {
   "cell_type": "code",
   "execution_count": 38,
   "id": "1f720187",
   "metadata": {},
   "outputs": [
    {
     "name": "stdout",
     "output_type": "stream",
     "text": [
      "('Aditya', 'Rahul', 'Ansh')\n",
      "{'roll': 3, 'roll1': 4}\n"
     ]
    }
   ],
   "source": [
    "data('Aditya','Rahul',\"Ansh\",roll=3,roll1=4)"
   ]
  },
  {
   "cell_type": "code",
   "execution_count": null,
   "id": "880d8753",
=======
   "id": "b14833b6",
>>>>>>> 08ac1982def66bfe863604c879d597ceccbdd9a5
   "metadata": {},
   "outputs": [],
   "source": []
  }
 ],
 "metadata": {
  "kernelspec": {
   "display_name": "Python 3 (ipykernel)",
   "language": "python",
   "name": "python3"
  },
  "language_info": {
   "codemirror_mode": {
    "name": "ipython",
    "version": 3
   },
   "file_extension": ".py",
   "mimetype": "text/x-python",
   "name": "python",
   "nbconvert_exporter": "python",
   "pygments_lexer": "ipython3",
   "version": "3.9.7"
  }
 },
 "nbformat": 4,
 "nbformat_minor": 5
}
