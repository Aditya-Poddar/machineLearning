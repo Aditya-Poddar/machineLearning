{
 "cells": [
  {
   "cell_type": "markdown",
   "id": "46da3488",
   "metadata": {},
   "source": [
    "# Filter Function"
   ]
  },
  {
   "cell_type": "code",
   "execution_count": 7,
   "id": "32e7ddac",
   "metadata": {},
   "outputs": [],
   "source": [
    "def even(num):\n",
    "    if num %2==0:\n",
    "        return num\n",
    "#     else:\n",
    "#         return 'Not Even'"
   ]
  },
  {
   "cell_type": "code",
   "execution_count": 8,
   "id": "ce1b9011",
   "metadata": {},
   "outputs": [],
   "source": [
    "even(33)"
   ]
  },
  {
   "cell_type": "code",
   "execution_count": 9,
   "id": "1722a43b",
   "metadata": {},
   "outputs": [],
   "source": [
    "lis =[1,2,3,4,5,6,7,8]"
   ]
  },
  {
   "cell_type": "markdown",
   "id": "f17b15b9",
   "metadata": {},
   "source": [
    "#### Filter fucntion using the normal fucntion\n",
    "- syntax\n",
    "-- filter(name_of_function,iterators)"
   ]
  },
  {
   "cell_type": "code",
   "execution_count": 10,
   "id": "65e90347",
   "metadata": {},
   "outputs": [
    {
     "data": {
      "text/plain": [
       "<filter at 0x131fe711310>"
      ]
     },
     "execution_count": 10,
     "metadata": {},
     "output_type": "execute_result"
    }
   ],
   "source": [
    "filter(even,lis)"
   ]
  },
  {
   "cell_type": "code",
   "execution_count": 11,
   "id": "862afc91",
   "metadata": {},
   "outputs": [
    {
     "data": {
      "text/plain": [
       "[2, 4, 6, 8]"
      ]
     },
     "execution_count": 11,
     "metadata": {},
     "output_type": "execute_result"
    }
   ],
   "source": [
    "list(filter(even,lis))"
   ]
  },
  {
   "cell_type": "code",
   "execution_count": 12,
   "id": "2582ff2d",
   "metadata": {},
   "outputs": [],
   "source": [
    "a=lambda num:num%2==0"
   ]
  },
  {
   "cell_type": "code",
   "execution_count": 13,
   "id": "ea0e2716",
   "metadata": {},
   "outputs": [
    {
     "data": {
      "text/plain": [
       "<function __main__.<lambda>(num)>"
      ]
     },
     "execution_count": 13,
     "metadata": {},
     "output_type": "execute_result"
    }
   ],
   "source": [
    "a"
   ]
  },
  {
   "cell_type": "code",
   "execution_count": 14,
   "id": "8d6fca0f",
   "metadata": {},
   "outputs": [
    {
     "data": {
      "text/plain": [
       "True"
      ]
     },
     "execution_count": 14,
     "metadata": {},
     "output_type": "execute_result"
    }
   ],
   "source": [
    "a(10)"
   ]
  },
  {
   "cell_type": "code",
   "execution_count": 16,
   "id": "d07b9dac",
   "metadata": {},
   "outputs": [
    {
     "data": {
      "text/plain": [
       "[1, 2, 3, 4, 5, 6, 7, 8]"
      ]
     },
     "execution_count": 16,
     "metadata": {},
     "output_type": "execute_result"
    }
   ],
   "source": [
    "lis"
   ]
  },
  {
   "cell_type": "markdown",
   "id": "676d4068",
   "metadata": {},
   "source": [
    "#### Filter function using lambda fucntion."
   ]
  },
  {
   "cell_type": "code",
   "execution_count": 15,
   "id": "29106855",
   "metadata": {},
   "outputs": [
    {
     "data": {
      "text/plain": [
       "[2, 4, 6, 8]"
      ]
     },
     "execution_count": 15,
     "metadata": {},
     "output_type": "execute_result"
    }
   ],
   "source": [
    "list(filter(lambda num:num%2==0,lis))"
   ]
  },
  {
   "cell_type": "markdown",
   "id": "096cbe59",
   "metadata": {},
   "source": [
    "#### Filter function vs map fucntion\n",
    "\n",
    "- filter function only return the filtered value\n",
    "- But map fucntion return all the values according to mapping"
   ]
  },
  {
   "cell_type": "code",
   "execution_count": 22,
   "id": "e106ad95",
   "metadata": {},
   "outputs": [],
   "source": [
    "a=list(map(even,lis))"
   ]
  },
  {
   "cell_type": "code",
   "execution_count": 23,
   "id": "af0a7dd3",
   "metadata": {},
   "outputs": [
    {
     "data": {
      "text/plain": [
       "[None, 2, None, 4, None, 6, None, 8]"
      ]
     },
     "execution_count": 23,
     "metadata": {},
     "output_type": "execute_result"
    }
   ],
   "source": [
    "a"
   ]
  },
  {
   "cell_type": "code",
   "execution_count": null,
   "id": "10ce9501",
   "metadata": {},
   "outputs": [],
   "source": []
  },
  {
   "cell_type": "code",
   "execution_count": null,
   "id": "9752b807",
   "metadata": {},
   "outputs": [],
   "source": []
  }
 ],
 "metadata": {
  "kernelspec": {
   "display_name": "Python 3 (ipykernel)",
   "language": "python",
   "name": "python3"
  },
  "language_info": {
   "codemirror_mode": {
    "name": "ipython",
    "version": 3
   },
   "file_extension": ".py",
   "mimetype": "text/x-python",
   "name": "python",
   "nbconvert_exporter": "python",
   "pygments_lexer": "ipython3",
   "version": "3.9.13"
  }
 },
 "nbformat": 4,
 "nbformat_minor": 5
}
