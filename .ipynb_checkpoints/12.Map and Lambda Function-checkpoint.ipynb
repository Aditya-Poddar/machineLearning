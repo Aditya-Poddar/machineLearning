{
 "cells": [
  {
   "cell_type": "markdown",
   "id": "0963efec",
   "metadata": {},
   "source": [
    "# Map Function"
   ]
  },
  {
   "cell_type": "code",
   "execution_count": 1,
   "id": "cd25a81c",
   "metadata": {},
   "outputs": [],
   "source": [
    "def odd_even(num):\n",
    "    if num%2==0:\n",
    "        return \"{} is even\".format(num)\n",
    "    else:\n",
    "        return \"{} is odd\".format(num)"
   ]
  },
  {
   "cell_type": "code",
   "execution_count": 2,
   "id": "dcfe51a8",
   "metadata": {},
   "outputs": [
    {
     "data": {
      "text/plain": [
       "'45 is odd'"
      ]
     },
     "execution_count": 2,
     "metadata": {},
     "output_type": "execute_result"
    }
   ],
   "source": [
    "odd_even(45)"
   ]
  },
  {
   "cell_type": "markdown",
   "id": "54af9e52",
   "metadata": {},
   "source": [
    "#### when we want to iterate these process multiple times we use map function."
   ]
  },
  {
   "cell_type": "markdown",
   "id": "a977a506",
   "metadata": {},
   "source": [
    "- syntax : map(fucnton , ireators)"
   ]
  },
  {
   "cell_type": "code",
   "execution_count": 3,
   "id": "b0f31450",
   "metadata": {},
   "outputs": [],
   "source": [
    "lst=[1,2,34,23,45,65,56,76,87,97,59]  # iterator "
   ]
  },
  {
   "cell_type": "code",
   "execution_count": 4,
   "id": "35906351",
   "metadata": {},
   "outputs": [
    {
     "data": {
      "text/plain": [
       "[1, 2, 34, 23, 45, 65, 56, 76, 87, 97, 59]"
      ]
     },
     "execution_count": 4,
     "metadata": {},
     "output_type": "execute_result"
    }
   ],
   "source": [
    "lst"
   ]
  },
  {
   "cell_type": "code",
   "execution_count": 5,
   "id": "3d04a005",
   "metadata": {},
   "outputs": [
    {
     "data": {
      "text/plain": [
       "<map at 0x28b33646850>"
      ]
     },
     "execution_count": 5,
     "metadata": {},
     "output_type": "execute_result"
    }
   ],
   "source": [
    "map(odd_even,lst)"
   ]
  },
  {
   "cell_type": "code",
   "execution_count": 6,
   "id": "8cb8a568",
   "metadata": {},
   "outputs": [
    {
     "data": {
      "text/plain": [
       "['1 is odd',\n",
       " '2 is even',\n",
       " '34 is even',\n",
       " '23 is odd',\n",
       " '45 is odd',\n",
       " '65 is odd',\n",
       " '56 is even',\n",
       " '76 is even',\n",
       " '87 is odd',\n",
       " '97 is odd',\n",
       " '59 is odd']"
      ]
     },
     "execution_count": 6,
     "metadata": {},
     "output_type": "execute_result"
    }
   ],
   "source": [
    "list(map(odd_even,lst))"
   ]
  },
  {
   "cell_type": "code",
   "execution_count": 7,
   "id": "d31541bf",
   "metadata": {},
   "outputs": [],
   "source": [
    "a=map(odd_even,lst)"
   ]
  },
  {
   "cell_type": "code",
   "execution_count": 8,
   "id": "f66743fe",
   "metadata": {},
   "outputs": [
    {
     "data": {
      "text/plain": [
       "<map at 0x28b35e4b1f0>"
      ]
     },
     "execution_count": 8,
     "metadata": {},
     "output_type": "execute_result"
    }
   ],
   "source": [
    "a"
   ]
  },
  {
   "cell_type": "code",
   "execution_count": 9,
   "id": "4a069800",
   "metadata": {},
   "outputs": [
    {
     "data": {
      "text/plain": [
       "['1 is odd',\n",
       " '2 is even',\n",
       " '34 is even',\n",
       " '23 is odd',\n",
       " '45 is odd',\n",
       " '65 is odd',\n",
       " '56 is even',\n",
       " '76 is even',\n",
       " '87 is odd',\n",
       " '97 is odd',\n",
       " '59 is odd']"
      ]
     },
     "execution_count": 9,
     "metadata": {},
     "output_type": "execute_result"
    }
   ],
   "source": [
    "list(a)"
   ]
  },
  {
   "cell_type": "code",
   "execution_count": null,
   "id": "e2c36074",
   "metadata": {},
   "outputs": [],
   "source": []
  }
 ],
 "metadata": {
  "kernelspec": {
   "display_name": "Python 3 (ipykernel)",
   "language": "python",
   "name": "python3"
  },
  "language_info": {
   "codemirror_mode": {
    "name": "ipython",
    "version": 3
   },
   "file_extension": ".py",
   "mimetype": "text/x-python",
   "name": "python",
   "nbconvert_exporter": "python",
   "pygments_lexer": "ipython3",
   "version": "3.9.13"
  }
 },
 "nbformat": 4,
 "nbformat_minor": 5
}
