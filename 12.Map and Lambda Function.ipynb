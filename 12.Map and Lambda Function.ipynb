{
 "cells": [
  {
   "cell_type": "markdown",
   "id": "33ecf0d6",
   "metadata": {},
   "source": [
    "# Map Function"
   ]
  },
  {
   "cell_type": "code",
   "execution_count": 1,
   "id": "166ff189",
   "metadata": {},
   "outputs": [],
   "source": [
    "def odd_even(num):\n",
    "    if num%2==0:\n",
    "        return \"{} is even\".format(num)\n",
    "    else:\n",
    "        return \"{} is odd\".format(num)"
   ]
  },
  {
   "cell_type": "code",
   "execution_count": 2,
   "id": "9f92e419",
   "metadata": {},
   "outputs": [
    {
     "data": {
      "text/plain": [
       "'45 is odd'"
      ]
     },
     "execution_count": 2,
     "metadata": {},
     "output_type": "execute_result"
    }
   ],
   "source": [
    "odd_even(45)"
   ]
  },
  {
   "cell_type": "markdown",
   "id": "718d0cd6",
   "metadata": {},
   "source": [
    "#### when we want to iterate these process multiple times we use map function."
   ]
  },
  {
   "cell_type": "markdown",
   "id": "6ddad463",
   "metadata": {},
   "source": [
    "- syntax : map(fucnton , ireators)"
   ]
  },
  {
   "cell_type": "code",
   "execution_count": 3,
   "id": "6f88ddb1",
   "metadata": {},
   "outputs": [],
   "source": [
    "lst=[1,2,34,23,45,65,56,76,87,97,59]  # iterator "
   ]
  },
  {
   "cell_type": "code",
   "execution_count": 4,
   "id": "d1459044",
   "metadata": {},
   "outputs": [
    {
     "data": {
      "text/plain": [
       "[1, 2, 34, 23, 45, 65, 56, 76, 87, 97, 59]"
      ]
     },
     "execution_count": 4,
     "metadata": {},
     "output_type": "execute_result"
    }
   ],
   "source": [
    "lst"
   ]
  },
  {
   "cell_type": "code",
   "execution_count": 5,
   "id": "13fe5065",
   "metadata": {},
   "outputs": [
    {
     "data": {
      "text/plain": [
       "<map at 0x28b33646850>"
      ]
     },
     "execution_count": 5,
     "metadata": {},
     "output_type": "execute_result"
    }
   ],
   "source": [
    "map(odd_even,lst)"
   ]
  },
  {
   "cell_type": "code",
   "execution_count": 6,
   "id": "a173e7ec",
   "metadata": {},
   "outputs": [
    {
     "data": {
      "text/plain": [
       "['1 is odd',\n",
       " '2 is even',\n",
       " '34 is even',\n",
       " '23 is odd',\n",
       " '45 is odd',\n",
       " '65 is odd',\n",
       " '56 is even',\n",
       " '76 is even',\n",
       " '87 is odd',\n",
       " '97 is odd',\n",
       " '59 is odd']"
      ]
     },
     "execution_count": 6,
     "metadata": {},
     "output_type": "execute_result"
    }
   ],
   "source": [
    "list(map(odd_even,lst))"
   ]
  },
  {
   "cell_type": "code",
   "execution_count": 7,
   "id": "9ee72e41",
   "metadata": {},
   "outputs": [],
   "source": [
    "a=map(odd_even,lst)"
   ]
  },
  {
   "cell_type": "code",
   "execution_count": 8,
   "id": "0ef28aa2",
   "metadata": {},
   "outputs": [
    {
     "data": {
      "text/plain": [
       "<map at 0x28b35e4b1f0>"
      ]
     },
     "execution_count": 8,
     "metadata": {},
     "output_type": "execute_result"
    }
   ],
   "source": [
    "a"
   ]
  },
  {
   "cell_type": "code",
   "execution_count": 9,
   "id": "8eb08fd4",
   "metadata": {},
   "outputs": [
    {
     "data": {
      "text/plain": [
       "['1 is odd',\n",
       " '2 is even',\n",
       " '34 is even',\n",
       " '23 is odd',\n",
       " '45 is odd',\n",
       " '65 is odd',\n",
       " '56 is even',\n",
       " '76 is even',\n",
       " '87 is odd',\n",
       " '97 is odd',\n",
       " '59 is odd']"
      ]
     },
     "execution_count": 9,
     "metadata": {},
     "output_type": "execute_result"
    }
   ],
   "source": [
    "list(a)"
   ]
  },
  {
   "cell_type": "markdown",
   "id": "4b92ec50",
   "metadata": {},
   "source": [
    "# Lambda Function\n",
    "- Also called as anonymus function.\n",
    "- fucntion with no name."
   ]
  },
  {
   "cell_type": "code",
   "execution_count": 11,
   "id": "14184601",
   "metadata": {},
   "outputs": [],
   "source": [
    "add=lambda a,b:a+b"
   ]
  },
  {
   "cell_type": "code",
   "execution_count": 12,
   "id": "1e25f138",
   "metadata": {},
   "outputs": [
    {
     "data": {
      "text/plain": [
       "<function __main__.<lambda>(a, b)>"
      ]
     },
     "execution_count": 12,
     "metadata": {},
     "output_type": "execute_result"
    }
   ],
   "source": [
    "add"
   ]
  },
  {
   "cell_type": "code",
   "execution_count": 13,
   "id": "70c36a62",
   "metadata": {},
   "outputs": [
    {
     "data": {
      "text/plain": [
       "7"
      ]
     },
     "execution_count": 13,
     "metadata": {},
     "output_type": "execute_result"
    }
   ],
   "source": [
    "add(3,4)"
   ]
  },
  {
   "cell_type": "code",
   "execution_count": null,
   "id": "3927b7b8",
   "metadata": {},
   "outputs": [],
   "source": []
  }
 ],
 "metadata": {
  "kernelspec": {
   "display_name": "Python 3 (ipykernel)",
   "language": "python",
   "name": "python3"
  },
  "language_info": {
   "codemirror_mode": {
    "name": "ipython",
    "version": 3
   },
   "file_extension": ".py",
   "mimetype": "text/x-python",
   "name": "python",
   "nbconvert_exporter": "python",
   "pygments_lexer": "ipython3",
   "version": "3.9.13"
  }
 },
 "nbformat": 4,
 "nbformat_minor": 5
}
