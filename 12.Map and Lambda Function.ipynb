{
 "cells": [
  {
   "cell_type": "markdown",
   "id": "b3d1d64c",
   "metadata": {},
   "source": [
    "# Map Function"
   ]
  },
  {
   "cell_type": "code",
   "execution_count": 1,
   "id": "e6bcc3c0",
   "metadata": {},
   "outputs": [],
   "source": [
    "def odd_even(num):\n",
    "    if num%2==0:\n",
    "        return \"{} is even\".format(num)\n",
    "    else:\n",
    "        return \"{} is odd\".format(num)"
   ]
  },
  {
   "cell_type": "code",
   "execution_count": 2,
   "id": "1727ab9b",
   "metadata": {},
   "outputs": [
    {
     "data": {
      "text/plain": [
       "'45 is odd'"
      ]
     },
     "execution_count": 2,
     "metadata": {},
     "output_type": "execute_result"
    }
   ],
   "source": [
    "odd_even(45)"
   ]
  },
  {
   "cell_type": "markdown",
   "id": "e6ccfeec",
   "metadata": {},
   "source": [
    "#### when we want to iterate these process multiple times we use map function."
   ]
  },
  {
   "cell_type": "markdown",
   "id": "f3949325",
   "metadata": {},
   "source": [
    "- syntax : map(fucnton , ireators)"
   ]
  },
  {
   "cell_type": "code",
   "execution_count": 3,
   "id": "e2e9276d",
   "metadata": {},
   "outputs": [],
   "source": [
    "lst=[1,2,34,23,45,65,56,76,87,97,59]  # iterator "
   ]
  },
  {
   "cell_type": "code",
   "execution_count": 4,
   "id": "ad9a7028",
   "metadata": {},
   "outputs": [
    {
     "data": {
      "text/plain": [
       "[1, 2, 34, 23, 45, 65, 56, 76, 87, 97, 59]"
      ]
     },
     "execution_count": 4,
     "metadata": {},
     "output_type": "execute_result"
    }
   ],
   "source": [
    "lst"
   ]
  },
  {
   "cell_type": "code",
   "execution_count": 5,
   "id": "7d23a758",
   "metadata": {},
   "outputs": [
    {
     "data": {
      "text/plain": [
       "<map at 0x28b33646850>"
      ]
     },
     "execution_count": 5,
     "metadata": {},
     "output_type": "execute_result"
    }
   ],
   "source": [
    "map(odd_even,lst)"
   ]
  },
  {
   "cell_type": "code",
   "execution_count": 6,
   "id": "ee744bac",
   "metadata": {},
   "outputs": [
    {
     "data": {
      "text/plain": [
       "['1 is odd',\n",
       " '2 is even',\n",
       " '34 is even',\n",
       " '23 is odd',\n",
       " '45 is odd',\n",
       " '65 is odd',\n",
       " '56 is even',\n",
       " '76 is even',\n",
       " '87 is odd',\n",
       " '97 is odd',\n",
       " '59 is odd']"
      ]
     },
     "execution_count": 6,
     "metadata": {},
     "output_type": "execute_result"
    }
   ],
   "source": [
    "list(map(odd_even,lst))"
   ]
  },
  {
   "cell_type": "code",
   "execution_count": 7,
   "id": "4655b596",
   "metadata": {},
   "outputs": [],
   "source": [
    "a=map(odd_even,lst)"
   ]
  },
  {
   "cell_type": "code",
   "execution_count": 8,
   "id": "2c9df110",
   "metadata": {},
   "outputs": [
    {
     "data": {
      "text/plain": [
       "<map at 0x28b35e4b1f0>"
      ]
     },
     "execution_count": 8,
     "metadata": {},
     "output_type": "execute_result"
    }
   ],
   "source": [
    "a"
   ]
  },
  {
   "cell_type": "code",
   "execution_count": 9,
   "id": "f402bd3a",
   "metadata": {},
   "outputs": [
    {
     "data": {
      "text/plain": [
       "['1 is odd',\n",
       " '2 is even',\n",
       " '34 is even',\n",
       " '23 is odd',\n",
       " '45 is odd',\n",
       " '65 is odd',\n",
       " '56 is even',\n",
       " '76 is even',\n",
       " '87 is odd',\n",
       " '97 is odd',\n",
       " '59 is odd']"
      ]
     },
     "execution_count": 9,
     "metadata": {},
     "output_type": "execute_result"
    }
   ],
   "source": [
    "list(a)"
   ]
  },
  {
   "cell_type": "markdown",
   "id": "ac96e14e",
   "metadata": {},
   "source": [
    "# Lambda Function\n",
    "- Also called as anonymus function.\n",
    "- fucntion with no name.\n",
    "- single line fucntion."
   ]
  },
  {
   "cell_type": "code",
   "execution_count": 11,
   "id": "5699c239",
   "metadata": {},
   "outputs": [],
   "source": [
    "add=lambda a,b:a+b"
   ]
  },
  {
   "cell_type": "code",
   "execution_count": 12,
   "id": "43678ac9",
   "metadata": {},
   "outputs": [
    {
     "data": {
      "text/plain": [
       "<function __main__.<lambda>(a, b)>"
      ]
     },
     "execution_count": 12,
     "metadata": {},
     "output_type": "execute_result"
    }
   ],
   "source": [
    "add"
   ]
  },
  {
   "cell_type": "code",
   "execution_count": 13,
   "id": "5a552e20",
   "metadata": {},
   "outputs": [
    {
     "data": {
      "text/plain": [
       "7"
      ]
     },
     "execution_count": 13,
     "metadata": {},
     "output_type": "execute_result"
    }
   ],
   "source": [
    "add(3,4)"
   ]
  },
  {
   "cell_type": "code",
   "execution_count": null,
   "id": "baf0eb5d",
   "metadata": {},
   "outputs": [],
   "source": []
  }
 ],
 "metadata": {
  "kernelspec": {
   "display_name": "Python 3 (ipykernel)",
   "language": "python",
   "name": "python3"
  },
  "language_info": {
   "codemirror_mode": {
    "name": "ipython",
    "version": 3
   },
   "file_extension": ".py",
   "mimetype": "text/x-python",
   "name": "python",
   "nbconvert_exporter": "python",
   "pygments_lexer": "ipython3",
   "version": "3.9.13"
  }
 },
 "nbformat": 4,
 "nbformat_minor": 5
}
