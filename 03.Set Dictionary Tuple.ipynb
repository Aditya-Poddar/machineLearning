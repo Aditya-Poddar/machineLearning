{
 "cells": [
  {
   "cell_type": "markdown",
   "id": "bb6d5bed",
   "metadata": {},
   "source": [
    "# Set\n",
    "\n",
    "- Set is unordered collection of hetrogenous data type .\n",
    "- It is mutable.\n",
    "- It has no duplicate elements.\n",
    "- It is based on data structure known as hash table."
   ]
  },
  {
   "cell_type": "code",
   "execution_count": 3,
   "id": "d49f77f6",
   "metadata": {},
   "outputs": [],
   "source": [
    "myset={1,2}  #  set is in curly braces. "
   ]
  },
  {
   "cell_type": "code",
   "execution_count": 4,
   "id": "076ef140",
   "metadata": {},
   "outputs": [
    {
     "data": {
      "text/plain": [
       "set"
      ]
     },
     "execution_count": 4,
     "metadata": {},
     "output_type": "execute_result"
    }
   ],
   "source": [
    "type(myset)"
   ]
  },
  {
   "cell_type": "code",
   "execution_count": 8,
   "id": "10b8e243",
   "metadata": {},
   "outputs": [
    {
     "data": {
      "text/plain": [
       "{1, 2}"
      ]
     },
     "execution_count": 8,
     "metadata": {},
     "output_type": "execute_result"
    }
   ],
   "source": [
    "myset"
   ]
  },
  {
   "cell_type": "code",
   "execution_count": 5,
   "id": "a32d14ad",
   "metadata": {},
   "outputs": [],
   "source": [
    "newset={}  # an empty set is a dictionary."
   ]
  },
  {
   "cell_type": "code",
   "execution_count": 6,
   "id": "98fac1d0",
   "metadata": {},
   "outputs": [
    {
     "data": {
      "text/plain": [
       "dict"
      ]
     },
     "execution_count": 6,
     "metadata": {},
     "output_type": "execute_result"
    }
   ],
   "source": [
    "type(newset)"
   ]
  },
  {
   "cell_type": "code",
   "execution_count": 7,
   "id": "3e97e9ec",
   "metadata": {},
   "outputs": [
    {
     "data": {
      "text/plain": [
       "{}"
      ]
     },
     "execution_count": 7,
     "metadata": {},
     "output_type": "execute_result"
    }
   ],
   "source": [
    "newset"
   ]
  },
  {
   "cell_type": "code",
   "execution_count": 33,
   "id": "b25201b8",
   "metadata": {},
   "outputs": [],
   "source": [
    "newset={\"aditya\",12,\"kumar\",3.4,4+5j}"
   ]
  },
  {
   "cell_type": "code",
   "execution_count": 34,
   "id": "58b2d6ce",
   "metadata": {},
   "outputs": [
    {
     "data": {
      "text/plain": [
       "{(4+5j), 12, 3.4, 'aditya', 'kumar'}"
      ]
     },
     "execution_count": 34,
     "metadata": {},
     "output_type": "execute_result"
    }
   ],
   "source": [
    "newset"
   ]
  },
  {
   "cell_type": "code",
   "execution_count": 35,
   "id": "0eb0705c",
   "metadata": {},
   "outputs": [
    {
     "data": {
      "text/plain": [
       "set"
      ]
     },
     "execution_count": 35,
     "metadata": {},
     "output_type": "execute_result"
    }
   ],
   "source": [
    "type(newset)"
   ]
  },
  {
   "cell_type": "markdown",
   "id": "04897255",
   "metadata": {},
   "source": [
    "#####  Set do not use indexing and slicing"
   ]
  },
  {
   "cell_type": "code",
   "execution_count": 36,
   "id": "1c103c30",
   "metadata": {},
   "outputs": [
    {
     "ename": "TypeError",
     "evalue": "'set' object is not subscriptable",
     "output_type": "error",
     "traceback": [
      "\u001b[1;31m---------------------------------------------------------------------------\u001b[0m",
      "\u001b[1;31mTypeError\u001b[0m                                 Traceback (most recent call last)",
      "\u001b[1;32m~\\AppData\\Local\\Temp\\ipykernel_13108\\2871236124.py\u001b[0m in \u001b[0;36m<module>\u001b[1;34m\u001b[0m\n\u001b[1;32m----> 1\u001b[1;33m \u001b[0mnewset\u001b[0m\u001b[1;33m[\u001b[0m\u001b[1;36m1\u001b[0m\u001b[1;33m]\u001b[0m\u001b[1;33m\u001b[0m\u001b[1;33m\u001b[0m\u001b[0m\n\u001b[0m",
      "\u001b[1;31mTypeError\u001b[0m: 'set' object is not subscriptable"
     ]
    }
   ],
   "source": [
    "newset[1]"
   ]
  },
  {
   "cell_type": "code",
   "execution_count": 37,
   "id": "85aa37ad",
   "metadata": {},
   "outputs": [
    {
     "ename": "TypeError",
     "evalue": "'set' object is not subscriptable",
     "output_type": "error",
     "traceback": [
      "\u001b[1;31m---------------------------------------------------------------------------\u001b[0m",
      "\u001b[1;31mTypeError\u001b[0m                                 Traceback (most recent call last)",
      "\u001b[1;32m~\\AppData\\Local\\Temp\\ipykernel_13108\\221558283.py\u001b[0m in \u001b[0;36m<module>\u001b[1;34m\u001b[0m\n\u001b[1;32m----> 1\u001b[1;33m \u001b[0mnewset\u001b[0m\u001b[1;33m[\u001b[0m\u001b[1;34m'aditya'\u001b[0m\u001b[1;33m]\u001b[0m\u001b[1;33m\u001b[0m\u001b[1;33m\u001b[0m\u001b[0m\n\u001b[0m",
      "\u001b[1;31mTypeError\u001b[0m: 'set' object is not subscriptable"
     ]
    }
   ],
   "source": [
    "newset['aditya']"
   ]
  },
  {
   "cell_type": "code",
   "execution_count": 38,
   "id": "cf7e083e",
   "metadata": {},
   "outputs": [],
   "source": [
    "newset.add(300)  # it will add new elements at any position"
   ]
  },
  {
   "cell_type": "code",
   "execution_count": 39,
   "id": "892d4f88",
   "metadata": {},
   "outputs": [
    {
     "data": {
      "text/plain": [
       "{(4+5j), 12, 3.4, 300, 'aditya', 'kumar'}"
      ]
     },
     "execution_count": 39,
     "metadata": {},
     "output_type": "execute_result"
    }
   ],
   "source": [
    "newset"
   ]
  },
  {
   "cell_type": "code",
   "execution_count": 40,
   "id": "c7969d62",
   "metadata": {},
   "outputs": [],
   "source": [
    "newset.add('poddar')"
   ]
  },
  {
   "cell_type": "code",
   "execution_count": 41,
   "id": "83b5b5cf",
   "metadata": {},
   "outputs": [
    {
     "data": {
      "text/plain": [
       "{(4+5j), 12, 3.4, 300, 'aditya', 'kumar', 'poddar'}"
      ]
     },
     "execution_count": 41,
     "metadata": {},
     "output_type": "execute_result"
    }
   ],
   "source": [
    "newset"
   ]
  },
  {
   "cell_type": "code",
   "execution_count": 42,
   "id": "4489cf6a",
   "metadata": {},
   "outputs": [],
   "source": [
    "newset.add(2)"
   ]
  },
  {
   "cell_type": "code",
   "execution_count": 43,
   "id": "d2534371",
   "metadata": {},
   "outputs": [
    {
     "data": {
      "text/plain": [
       "{(4+5j), 12, 2, 3.4, 300, 'aditya', 'kumar', 'poddar'}"
      ]
     },
     "execution_count": 43,
     "metadata": {},
     "output_type": "execute_result"
    }
   ],
   "source": [
    "newset"
   ]
  },
  {
   "cell_type": "code",
   "execution_count": 44,
   "id": "963cc829",
   "metadata": {},
   "outputs": [],
   "source": [
    "newset.remove(12)  # it will remove specific element"
   ]
  },
  {
   "cell_type": "code",
   "execution_count": 45,
   "id": "0ccd032e",
   "metadata": {},
   "outputs": [
    {
     "data": {
      "text/plain": [
       "{(4+5j), 2, 3.4, 300, 'aditya', 'kumar', 'poddar'}"
      ]
     },
     "execution_count": 45,
     "metadata": {},
     "output_type": "execute_result"
    }
   ],
   "source": [
    "newset"
   ]
  },
  {
   "cell_type": "code",
   "execution_count": 46,
   "id": "fab579ad",
   "metadata": {},
   "outputs": [
    {
     "data": {
      "text/plain": [
       "'kumar'"
      ]
     },
     "execution_count": 46,
     "metadata": {},
     "output_type": "execute_result"
    }
   ],
   "source": [
    "newset.pop() # it will pop any of the element form set"
   ]
  },
  {
   "cell_type": "code",
   "execution_count": 47,
   "id": "88a6e45d",
   "metadata": {},
   "outputs": [
    {
     "data": {
      "text/plain": [
       "{(4+5j), 2, 3.4, 300, 'aditya', 'poddar'}"
      ]
     },
     "execution_count": 47,
     "metadata": {},
     "output_type": "execute_result"
    }
   ],
   "source": [
    "newset"
   ]
  },
  {
   "cell_type": "code",
   "execution_count": 48,
   "id": "2a8d9a56",
   "metadata": {},
   "outputs": [],
   "source": [
    "newset.update() # Update a set with the union of itself and others."
   ]
  },
  {
   "cell_type": "code",
   "execution_count": 50,
   "id": "b234f334",
   "metadata": {},
   "outputs": [
    {
     "data": {
      "text/plain": [
       "{(4+5j), 2, 3.4, 300, 'aditya', 'poddar'}"
      ]
     },
     "execution_count": 50,
     "metadata": {},
     "output_type": "execute_result"
    }
   ],
   "source": [
    "newset"
   ]
  },
  {
   "cell_type": "code",
   "execution_count": 51,
   "id": "d1813cba",
   "metadata": {},
   "outputs": [],
   "source": [
    "set1={'aditya','rahul',\"Poddar\"}\n",
    "set2={'rahul','kumar','poddar'}"
   ]
  },
  {
   "cell_type": "code",
   "execution_count": 52,
   "id": "7978269a",
   "metadata": {},
   "outputs": [
    {
     "data": {
      "text/plain": [
       "{'Poddar', 'aditya', 'kumar', 'poddar', 'rahul'}"
      ]
     },
     "execution_count": 52,
     "metadata": {},
     "output_type": "execute_result"
    }
   ],
   "source": [
    "#union of set\n",
    "set1.union(set2)"
   ]
  },
  {
   "cell_type": "code",
   "execution_count": 53,
   "id": "11fe843c",
   "metadata": {},
   "outputs": [
    {
     "data": {
      "text/plain": [
       "{'Poddar', 'aditya'}"
      ]
     },
     "execution_count": 53,
     "metadata": {},
     "output_type": "execute_result"
    }
   ],
   "source": [
    "#Difference of set    --> set1 se set2 ka comman elements hat jayega.\n",
    "set1.difference(set2)"
   ]
  },
  {
   "cell_type": "code",
   "execution_count": 55,
   "id": "db718bcb",
   "metadata": {},
   "outputs": [
    {
     "data": {
      "text/plain": [
       "{'rahul'}"
      ]
     },
     "execution_count": 55,
     "metadata": {},
     "output_type": "execute_result"
    }
   ],
   "source": [
    "#Intersection of set\n",
    "set1.intersection(set2)"
   ]
  },
  {
   "cell_type": "code",
   "execution_count": 57,
   "id": "d75c6402",
   "metadata": {},
   "outputs": [
    {
     "data": {
      "text/plain": [
       "{'Poddar', 'aditya', 'kumar', 'poddar'}"
      ]
     },
     "execution_count": 57,
     "metadata": {},
     "output_type": "execute_result"
    }
   ],
   "source": [
    "# Symmetric difference of set   --> It will union both set1 and set2 and then remove the comman elements\n",
    "set1.symmetric_difference(set2)"
   ]
  },
  {
   "cell_type": "code",
   "execution_count": 58,
   "id": "4c425759",
   "metadata": {},
   "outputs": [
    {
     "data": {
      "text/plain": [
       "False"
      ]
     },
     "execution_count": 58,
     "metadata": {},
     "output_type": "execute_result"
    }
   ],
   "source": [
    "#check the disjoint property of set\n",
    "set1.isdisjoint(set2)"
   ]
  },
  {
   "cell_type": "code",
   "execution_count": 59,
   "id": "0aa78d99",
   "metadata": {},
   "outputs": [],
   "source": [
    "set1.difference_update(set2)   # it will find difference and then update set1"
   ]
  },
  {
   "cell_type": "code",
   "execution_count": 60,
   "id": "8797e0f2",
   "metadata": {},
   "outputs": [
    {
     "data": {
      "text/plain": [
       "{'Poddar', 'aditya'}"
      ]
     },
     "execution_count": 60,
     "metadata": {},
     "output_type": "execute_result"
    }
   ],
   "source": [
    "set1"
   ]
  },
  {
   "cell_type": "code",
   "execution_count": 70,
   "id": "67be867b",
   "metadata": {},
   "outputs": [
    {
     "data": {
      "text/plain": [
       "{'Poddar', 'aditya'}"
      ]
     },
     "execution_count": 70,
     "metadata": {},
     "output_type": "execute_result"
    }
   ],
   "source": [
    "set1"
   ]
  },
  {
   "cell_type": "code",
   "execution_count": 72,
   "id": "8ad342fc",
   "metadata": {},
   "outputs": [
    {
     "data": {
      "text/plain": [
       "{'kumar', 'poddar', 'rahul'}"
      ]
     },
     "execution_count": 72,
     "metadata": {},
     "output_type": "execute_result"
    }
   ],
   "source": [
    "set2"
   ]
  },
  {
   "cell_type": "code",
   "execution_count": 73,
   "id": "80a6da23",
   "metadata": {},
   "outputs": [],
   "source": [
    "# Discard --> used to discard the specific eleemnt from set.\n",
    "set1.discard('aditya')"
   ]
  },
  {
   "cell_type": "code",
   "execution_count": 74,
   "id": "be7656d9",
   "metadata": {},
   "outputs": [
    {
     "data": {
      "text/plain": [
       "{'Poddar'}"
      ]
     },
     "execution_count": 74,
     "metadata": {},
     "output_type": "execute_result"
    }
   ],
   "source": [
    "set1"
   ]
  },
  {
   "cell_type": "markdown",
   "id": "9688a625",
   "metadata": {},
   "source": [
    "# Dictionary\n",
    "- It is also represented in curly barces.\n",
    "- It is also collection of hetrogenous item in key value pair.\n",
    "- It is mutable and support indexing.\n",
    "\n",
    "- An empty set is always a dictionary."
   ]
  },
  {
   "cell_type": "code",
   "execution_count": 75,
   "id": "68dbabaa",
   "metadata": {},
   "outputs": [],
   "source": [
    "mydict={}"
   ]
  },
  {
   "cell_type": "code",
   "execution_count": 76,
   "id": "f221a5bd",
   "metadata": {},
   "outputs": [
    {
     "data": {
      "text/plain": [
       "dict"
      ]
     },
     "execution_count": 76,
     "metadata": {},
     "output_type": "execute_result"
    }
   ],
   "source": [
    "type(mydict)"
   ]
  },
  {
   "cell_type": "code",
   "execution_count": 77,
   "id": "d4c95f28",
   "metadata": {},
   "outputs": [],
   "source": [
    "mydict={\"name\":\"aditya\"}"
   ]
  },
  {
   "cell_type": "code",
   "execution_count": 78,
   "id": "5fc26503",
   "metadata": {},
   "outputs": [
    {
     "data": {
      "text/plain": [
       "{'name': 'aditya'}"
      ]
     },
     "execution_count": 78,
     "metadata": {},
     "output_type": "execute_result"
    }
   ],
   "source": [
    "mydict"
   ]
  },
  {
   "cell_type": "code",
   "execution_count": 80,
   "id": "6fce3605",
   "metadata": {},
   "outputs": [
    {
     "data": {
      "text/plain": [
       "'aditya'"
      ]
     },
     "execution_count": 80,
     "metadata": {},
     "output_type": "execute_result"
    }
   ],
   "source": [
    "mydict['name']   #It will gives the values of name key."
   ]
  },
  {
   "cell_type": "code",
   "execution_count": 81,
   "id": "d4deffef",
   "metadata": {},
   "outputs": [
    {
     "data": {
      "text/plain": [
       "dict_items([('name', 'aditya')])"
      ]
     },
     "execution_count": 81,
     "metadata": {},
     "output_type": "execute_result"
    }
   ],
   "source": [
    "mydict.items()  # get the items of the dictionary"
   ]
  },
  {
   "cell_type": "code",
   "execution_count": 82,
   "id": "0da5f51c",
   "metadata": {},
   "outputs": [
    {
     "data": {
      "text/plain": [
       "dict_keys(['name'])"
      ]
     },
     "execution_count": 82,
     "metadata": {},
     "output_type": "execute_result"
    }
   ],
   "source": [
    "mydict.keys()   # get the keys of dictionary"
   ]
  },
  {
   "cell_type": "code",
   "execution_count": 83,
   "id": "551754a3",
   "metadata": {},
   "outputs": [
    {
     "data": {
      "text/plain": [
       "dict_values(['aditya'])"
      ]
     },
     "execution_count": 83,
     "metadata": {},
     "output_type": "execute_result"
    }
   ],
   "source": [
    "mydict.values()  # get the vlaues of dictionary"
   ]
  },
  {
   "cell_type": "code",
   "execution_count": 86,
   "id": "b5c33384",
   "metadata": {},
   "outputs": [],
   "source": [
    "nwdict={\"n1\":'ad','n2':'b','n3':'cd'}"
   ]
  },
  {
   "cell_type": "code",
   "execution_count": 87,
   "id": "ef299058",
   "metadata": {},
   "outputs": [
    {
     "data": {
      "text/plain": [
       "{'n1': 'ad', 'n2': 'b', 'n3': 'cd'}"
      ]
     },
     "execution_count": 87,
     "metadata": {},
     "output_type": "execute_result"
    }
   ],
   "source": [
    "nwdict"
   ]
  },
  {
   "cell_type": "code",
   "execution_count": 88,
   "id": "b81408e9",
   "metadata": {},
   "outputs": [
    {
     "data": {
      "text/plain": [
       "dict_keys(['n1', 'n2', 'n3'])"
      ]
     },
     "execution_count": 88,
     "metadata": {},
     "output_type": "execute_result"
    }
   ],
   "source": [
    "nwdict.keys()"
   ]
  },
  {
   "cell_type": "code",
   "execution_count": 89,
   "id": "33e8427d",
   "metadata": {},
   "outputs": [
    {
     "data": {
      "text/plain": [
       "dict_values(['ad', 'b', 'cd'])"
      ]
     },
     "execution_count": 89,
     "metadata": {},
     "output_type": "execute_result"
    }
   ],
   "source": [
    "nwdict.values()"
   ]
  },
  {
   "cell_type": "code",
   "execution_count": 91,
   "id": "6595aab5",
   "metadata": {},
   "outputs": [
    {
     "data": {
      "text/plain": [
       "dict_items([('n1', 'ad'), ('n2', 'b'), ('n3', 'cd')])"
      ]
     },
     "execution_count": 91,
     "metadata": {},
     "output_type": "execute_result"
    }
   ],
   "source": [
    "nwdict.items()"
   ]
  },
  {
   "cell_type": "code",
   "execution_count": 94,
   "id": "098066c1",
   "metadata": {},
   "outputs": [
    {
     "data": {
      "text/plain": [
       "'ad'"
      ]
     },
     "execution_count": 94,
     "metadata": {},
     "output_type": "execute_result"
    }
   ],
   "source": [
    "nwdict['n1']"
   ]
  },
  {
   "cell_type": "code",
   "execution_count": 95,
   "id": "904193f6",
   "metadata": {},
   "outputs": [
    {
     "name": "stdout",
     "output_type": "stream",
     "text": [
      "n1\n",
      "n2\n",
      "n3\n"
     ]
    }
   ],
   "source": [
    "for i in nwdict:\n",
    "    print(i)"
   ]
  },
  {
   "cell_type": "code",
   "execution_count": 96,
   "id": "1ae449ac",
   "metadata": {},
   "outputs": [
    {
     "name": "stdout",
     "output_type": "stream",
     "text": [
      "n1\n",
      "n2\n",
      "n3\n"
     ]
    }
   ],
   "source": [
    "for j in nwdict.keys():\n",
    "    print(j)"
   ]
  },
  {
   "cell_type": "code",
   "execution_count": 98,
   "id": "102f76bd",
   "metadata": {},
   "outputs": [
    {
     "name": "stdout",
     "output_type": "stream",
     "text": [
      "ad\n",
      "b\n",
      "cd\n"
     ]
    }
   ],
   "source": [
    "for j in nwdict.values():\n",
    "    print(j)"
   ]
  },
  {
   "cell_type": "code",
   "execution_count": 99,
   "id": "39c60336",
   "metadata": {},
   "outputs": [
    {
     "name": "stdout",
     "output_type": "stream",
     "text": [
      "('n1', 'ad')\n",
      "('n2', 'b')\n",
      "('n3', 'cd')\n"
     ]
    }
   ],
   "source": [
    "for i in nwdict.items():\n",
    "    print(i)"
   ]
  },
  {
   "cell_type": "code",
   "execution_count": 100,
   "id": "c34f8819",
   "metadata": {},
   "outputs": [],
   "source": [
    "# updating the key values\n",
    "nwdict['n1']='aditya'\n",
    "nwdict['n2']='rahul'"
   ]
  },
  {
   "cell_type": "code",
   "execution_count": 101,
   "id": "9d65be27",
   "metadata": {},
   "outputs": [
    {
     "data": {
      "text/plain": [
       "{'n1': 'aditya', 'n2': 'rahul', 'n3': 'cd'}"
      ]
     },
     "execution_count": 101,
     "metadata": {},
     "output_type": "execute_result"
    }
   ],
   "source": [
    "nwdict"
   ]
  },
  {
   "cell_type": "markdown",
   "id": "0064e649",
   "metadata": {},
   "source": [
    "# Tuples\n",
    "- Tuples are immutable.\n",
    "- It aslo contains hetrogenous data types of element.\n",
    "- it is represented in round braces."
   ]
  },
  {
   "cell_type": "code",
   "execution_count": 102,
   "id": "0a17bb06",
   "metadata": {},
   "outputs": [],
   "source": [
    "mytuple=()"
   ]
  },
  {
   "cell_type": "code",
   "execution_count": 103,
   "id": "6e18a39f",
   "metadata": {},
   "outputs": [
    {
     "data": {
      "text/plain": [
       "tuple"
      ]
     },
     "execution_count": 103,
     "metadata": {},
     "output_type": "execute_result"
    }
   ],
   "source": [
    "type(mytuple)"
   ]
  },
  {
   "cell_type": "code",
   "execution_count": 104,
   "id": "1a179770",
   "metadata": {},
   "outputs": [],
   "source": [
    "mytuple=(1,2,3)"
   ]
  },
  {
   "cell_type": "code",
   "execution_count": 105,
   "id": "b9fa9b14",
   "metadata": {},
   "outputs": [
    {
     "data": {
      "text/plain": [
       "1"
      ]
     },
     "execution_count": 105,
     "metadata": {},
     "output_type": "execute_result"
    }
   ],
   "source": [
    "mytuple.count(1)   # Count the element"
   ]
  },
  {
   "cell_type": "code",
   "execution_count": 106,
   "id": "4532a2a1",
   "metadata": {},
   "outputs": [
    {
     "data": {
      "text/plain": [
       "1"
      ]
     },
     "execution_count": 106,
     "metadata": {},
     "output_type": "execute_result"
    }
   ],
   "source": [
    "mytuple.index(2)   # find the index of the element"
   ]
  },
  {
   "cell_type": "code",
   "execution_count": 108,
   "id": "c22a3b8b",
   "metadata": {},
   "outputs": [
    {
     "data": {
      "text/plain": [
       "1"
      ]
     },
     "execution_count": 108,
     "metadata": {},
     "output_type": "execute_result"
    }
   ],
   "source": [
    "mytuple[0]   # indexing same as list"
   ]
  },
  {
   "cell_type": "markdown",
   "id": "1bfde831",
   "metadata": {},
   "source": [
    "##### whole tuplse can get replace but elements can not get replaced."
   ]
  },
  {
   "cell_type": "code",
   "execution_count": 110,
   "id": "231f5f70",
   "metadata": {},
   "outputs": [
    {
     "ename": "TypeError",
     "evalue": "'tuple' object does not support item assignment",
     "output_type": "error",
     "traceback": [
      "\u001b[1;31m---------------------------------------------------------------------------\u001b[0m",
      "\u001b[1;31mTypeError\u001b[0m                                 Traceback (most recent call last)",
      "\u001b[1;32m~\\AppData\\Local\\Temp\\ipykernel_13108\\488486592.py\u001b[0m in \u001b[0;36m<module>\u001b[1;34m\u001b[0m\n\u001b[1;32m----> 1\u001b[1;33m \u001b[0mmytuple\u001b[0m\u001b[1;33m[\u001b[0m\u001b[1;36m0\u001b[0m\u001b[1;33m]\u001b[0m\u001b[1;33m=\u001b[0m\u001b[1;36m23\u001b[0m\u001b[1;33m\u001b[0m\u001b[1;33m\u001b[0m\u001b[0m\n\u001b[0m",
      "\u001b[1;31mTypeError\u001b[0m: 'tuple' object does not support item assignment"
     ]
    }
   ],
   "source": [
    "mytuple[0]=23"
   ]
  },
  {
   "cell_type": "code",
   "execution_count": 111,
   "id": "fe7109d8",
   "metadata": {},
   "outputs": [],
   "source": [
    "mytuple=(\"helllo\",\"world\",10)"
   ]
  },
  {
   "cell_type": "code",
   "execution_count": 112,
   "id": "c5be80ad",
   "metadata": {},
   "outputs": [
    {
     "data": {
      "text/plain": [
       "('helllo', 'world', 10)"
      ]
     },
     "execution_count": 112,
     "metadata": {},
     "output_type": "execute_result"
    }
   ],
   "source": [
    "mytuple"
   ]
  },
  {
   "cell_type": "code",
   "execution_count": null,
   "id": "a6c7bfa4",
   "metadata": {},
   "outputs": [],
   "source": []
  }
 ],
 "metadata": {
  "kernelspec": {
   "display_name": "Python 3 (ipykernel)",
   "language": "python",
   "name": "python3"
  },
  "language_info": {
   "codemirror_mode": {
    "name": "ipython",
    "version": 3
   },
   "file_extension": ".py",
   "mimetype": "text/x-python",
   "name": "python",
   "nbconvert_exporter": "python",
   "pygments_lexer": "ipython3",
   "version": "3.9.13"
  }
 },
 "nbformat": 4,
 "nbformat_minor": 5
}
