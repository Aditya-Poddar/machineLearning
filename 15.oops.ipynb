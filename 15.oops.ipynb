{
 "cells": [
  {
   "cell_type": "markdown",
   "id": "2d61ea86",
   "metadata": {},
   "source": [
    "# OOPS\n",
    "\n",
    "- Class is real world entity with some attribute."
   ]
  },
  {
   "cell_type": "code",
   "execution_count": 1,
   "id": "303edfd8",
   "metadata": {},
   "outputs": [],
   "source": [
    "class car:\n",
    "    pass # empty class"
   ]
  },
  {
   "cell_type": "code",
   "execution_count": 2,
   "id": "f17db5ec",
   "metadata": {},
   "outputs": [],
   "source": [
    "# object \n",
    "car1=car()"
   ]
  },
  {
   "cell_type": "code",
   "execution_count": 5,
   "id": "de8219d4",
   "metadata": {},
   "outputs": [],
   "source": [
    "# defining attribute of object.\n",
    "car1.window=5\n",
    "car1.model=\"Audi\""
   ]
  },
  {
   "cell_type": "code",
   "execution_count": 6,
   "id": "ecba433e",
   "metadata": {},
   "outputs": [
    {
     "name": "stdout",
     "output_type": "stream",
     "text": [
      "Audi\n"
     ]
    }
   ],
   "source": [
    "print(car1.model)"
   ]
  },
  {
   "cell_type": "markdown",
   "id": "bc828993",
   "metadata": {},
   "source": [
    "### Proper way to define a class"
   ]
  },
  {
   "cell_type": "code",
   "execution_count": 7,
   "id": "26bbfb09",
   "metadata": {},
   "outputs": [],
   "source": [
    "class car:\n",
    "    def __init__(self,window,door,enginetype):\n",
    "        self.window=window\n",
    "        self.door=door\n",
    "        self.enginetype=enginetype"
   ]
  },
  {
   "cell_type": "code",
   "execution_count": 8,
   "id": "a1ea1535",
   "metadata": {},
   "outputs": [
    {
     "ename": "TypeError",
     "evalue": "__init__() missing 3 required positional arguments: 'window', 'door', and 'enginetype'",
     "output_type": "error",
     "traceback": [
      "\u001b[1;31m---------------------------------------------------------------------------\u001b[0m",
      "\u001b[1;31mTypeError\u001b[0m                                 Traceback (most recent call last)",
      "\u001b[1;32m~\\AppData\\Local\\Temp\\ipykernel_10848\\3009781851.py\u001b[0m in \u001b[0;36m<module>\u001b[1;34m\u001b[0m\n\u001b[1;32m----> 1\u001b[1;33m \u001b[0mcar1\u001b[0m\u001b[1;33m=\u001b[0m\u001b[0mcar\u001b[0m\u001b[1;33m(\u001b[0m\u001b[1;33m)\u001b[0m\u001b[1;33m\u001b[0m\u001b[1;33m\u001b[0m\u001b[0m\n\u001b[0m",
      "\u001b[1;31mTypeError\u001b[0m: __init__() missing 3 required positional arguments: 'window', 'door', and 'enginetype'"
     ]
    }
   ],
   "source": [
    "car1=car()"
   ]
  },
  {
   "cell_type": "code",
   "execution_count": 9,
   "id": "a3f29b5f",
   "metadata": {},
   "outputs": [],
   "source": [
    "car1=car(6,4,\"petrol\")"
   ]
  },
  {
   "cell_type": "code",
   "execution_count": 10,
   "id": "a89d8e24",
   "metadata": {},
   "outputs": [],
   "source": [
    "car2=car(2,2,\"Electric\")"
   ]
  },
  {
   "cell_type": "code",
   "execution_count": 16,
   "id": "4559991b",
   "metadata": {},
   "outputs": [],
   "source": [
    "car3=car(3,2,\"Diesal\")"
   ]
  },
  {
   "cell_type": "code",
   "execution_count": 17,
   "id": "d1ccbdce",
   "metadata": {},
   "outputs": [
    {
     "data": {
      "text/plain": [
       "6"
      ]
     },
     "execution_count": 17,
     "metadata": {},
     "output_type": "execute_result"
    }
   ],
   "source": [
    "car1.window"
   ]
  },
  {
   "cell_type": "code",
   "execution_count": 18,
   "id": "67d3c16c",
   "metadata": {},
   "outputs": [
    {
     "data": {
      "text/plain": [
       "4"
      ]
     },
     "execution_count": 18,
     "metadata": {},
     "output_type": "execute_result"
    }
   ],
   "source": [
    "car1.door"
   ]
  },
  {
   "cell_type": "code",
   "execution_count": 19,
   "id": "a376b449",
   "metadata": {},
   "outputs": [
    {
     "data": {
      "text/plain": [
       "'petrol'"
      ]
     },
     "execution_count": 19,
     "metadata": {},
     "output_type": "execute_result"
    }
   ],
   "source": [
    "car1.enginetype"
   ]
  },
  {
   "cell_type": "code",
   "execution_count": 20,
   "id": "1ea1d4ee",
   "metadata": {},
   "outputs": [
    {
     "data": {
      "text/plain": [
       "'Diesal'"
      ]
     },
     "execution_count": 20,
     "metadata": {},
     "output_type": "execute_result"
    }
   ],
   "source": [
    "car2.enginetype"
   ]
  },
  {
   "cell_type": "code",
   "execution_count": 23,
   "id": "084d746b",
   "metadata": {},
   "outputs": [
    {
     "data": {
      "text/plain": [
       "'Diesal'"
      ]
     },
     "execution_count": 23,
     "metadata": {},
     "output_type": "execute_result"
    }
   ],
   "source": [
    "car3.enginetype"
   ]
  },
  {
   "cell_type": "code",
   "execution_count": 24,
   "id": "12f4de17",
   "metadata": {},
   "outputs": [],
   "source": [
    "class car:\n",
    "    # property\n",
    "    def __init__(self,window,door,enginetype):\n",
    "        self.window=window\n",
    "        self.door=door\n",
    "        self.enginetype=enginetype\n",
    "    #method i.e is function.\n",
    "    def selfdriving(self):\n",
    "        return \"This is a {} car.\".format(self.enginetype)"
   ]
  },
  {
   "cell_type": "code",
   "execution_count": 27,
   "id": "edec7f22",
   "metadata": {},
   "outputs": [],
   "source": [
    "car1=car(4,4,\"Desiel\")\n",
    "car2=car(3,3,\"Electric\")\n",
    "car3=car(2,2,\"Diesel\")"
   ]
  },
  {
   "cell_type": "code",
   "execution_count": 28,
   "id": "d7a0cee1",
   "metadata": {},
   "outputs": [
    {
     "name": "stdout",
     "output_type": "stream",
     "text": [
      "This is a Electric car.\n"
     ]
    }
   ],
   "source": [
    "print(car2.selfdriving())"
   ]
  },
  {
   "cell_type": "code",
   "execution_count": 29,
   "id": "7425917a",
   "metadata": {},
   "outputs": [
    {
     "name": "stdout",
     "output_type": "stream",
     "text": [
      "Electric\n"
     ]
    }
   ],
   "source": [
    "print(car2.enginetype)"
   ]
  },
  {
   "cell_type": "markdown",
   "id": "252b1fe9",
   "metadata": {},
   "source": [
    "### Function"
   ]
  },
  {
   "cell_type": "code",
   "execution_count": 54,
   "id": "661f54ea",
   "metadata": {},
   "outputs": [],
   "source": [
    "def add(a,b,c=0):\n",
    "    return a+b+c"
   ]
  },
  {
   "cell_type": "code",
   "execution_count": 55,
   "id": "bead1dea",
   "metadata": {},
   "outputs": [
    {
     "data": {
      "text/plain": [
       "7"
      ]
     },
     "execution_count": 55,
     "metadata": {},
     "output_type": "execute_result"
    }
   ],
   "source": [
    "add(3,4)"
   ]
  },
  {
   "cell_type": "code",
   "execution_count": 56,
   "id": "450ef276",
   "metadata": {},
   "outputs": [
    {
     "data": {
      "text/plain": [
       "12"
      ]
     },
     "execution_count": 56,
     "metadata": {},
     "output_type": "execute_result"
    }
   ],
   "source": [
    "add(3,4,5)"
   ]
  },
  {
   "cell_type": "markdown",
   "id": "1ac0ea67",
   "metadata": {},
   "source": [
    "### Args Function"
   ]
  },
  {
   "cell_type": "code",
   "execution_count": 47,
   "id": "1fa60759",
   "metadata": {},
   "outputs": [],
   "source": [
    "def add(*args):\n",
    "    print(args)"
   ]
  },
  {
   "cell_type": "code",
   "execution_count": 48,
   "id": "9f289317",
   "metadata": {},
   "outputs": [
    {
     "name": "stdout",
     "output_type": "stream",
     "text": [
      "(1, 2, 3, 4)\n"
     ]
    }
   ],
   "source": [
    "add(1,2,3,4)"
   ]
  },
  {
   "cell_type": "code",
   "execution_count": 41,
   "id": "b2c3521c",
   "metadata": {},
   "outputs": [
    {
     "data": {
      "text/plain": [
       "function"
      ]
     },
     "execution_count": 41,
     "metadata": {},
     "output_type": "execute_result"
    }
   ],
   "source": [
    "type(add)"
   ]
  },
  {
   "cell_type": "markdown",
   "id": "9ef56dce",
   "metadata": {},
   "source": [
    "### Kwargs Function"
   ]
  },
  {
   "cell_type": "code",
   "execution_count": 63,
   "id": "3d79117a",
   "metadata": {},
   "outputs": [],
   "source": [
    "def stu(**kwargs):\n",
    "    print(kwargs.values())"
   ]
  },
  {
   "cell_type": "code",
   "execution_count": 64,
   "id": "b7d12c64",
   "metadata": {},
   "outputs": [
    {
     "name": "stdout",
     "output_type": "stream",
     "text": [
      "dict_values([10, 20, 30])\n"
     ]
    }
   ],
   "source": [
    "stu(a=10,b=20,c=30)"
   ]
  },
  {
   "cell_type": "code",
   "execution_count": 66,
   "id": "f24dd6bf",
   "metadata": {},
   "outputs": [],
   "source": [
    "def stu(**kwargs):\n",
    "    for i in kwargs.values():\n",
    "        print(i)"
   ]
  },
  {
   "cell_type": "code",
   "execution_count": 69,
   "id": "2f6138f3",
   "metadata": {},
   "outputs": [
    {
     "name": "stdout",
     "output_type": "stream",
     "text": [
      "12\n",
      "20\n",
      "18\n"
     ]
    }
   ],
   "source": [
    "stu(a=12,b=20,c=18)"
   ]
  },
  {
   "cell_type": "markdown",
   "id": "f33dbad9",
   "metadata": {},
   "source": [
    "#### default argument and positional argumnet"
   ]
  },
  {
   "cell_type": "markdown",
   "id": "496ae5ff",
   "metadata": {},
   "source": [
    "_____________________________________________________________________________________________________________"
   ]
  },
  {
   "cell_type": "markdown",
   "id": "c909b6d6",
   "metadata": {},
   "source": [
    "#### Local and Global scope of fucntion"
   ]
  },
  {
   "cell_type": "code",
   "execution_count": 70,
   "id": "04bd6a4a",
   "metadata": {},
   "outputs": [],
   "source": [
    "x=10\n",
    "def sum():\n",
    "    print(x)"
   ]
  },
  {
   "cell_type": "code",
   "execution_count": 71,
   "id": "45209746",
   "metadata": {},
   "outputs": [
    {
     "name": "stdout",
     "output_type": "stream",
     "text": [
      "10\n"
     ]
    }
   ],
   "source": [
    "sum()"
   ]
  },
  {
   "cell_type": "code",
   "execution_count": 78,
   "id": "a8c25569",
   "metadata": {},
   "outputs": [],
   "source": [
    "x=10\n",
    "def num():\n",
    "    y=11\n",
    "    return x,y"
   ]
  },
  {
   "cell_type": "code",
   "execution_count": 77,
   "id": "b6bf35a7",
   "metadata": {},
   "outputs": [
    {
     "data": {
      "text/plain": [
       "(11, 11)"
      ]
     },
     "execution_count": 77,
     "metadata": {},
     "output_type": "execute_result"
    }
   ],
   "source": [
    "num()"
   ]
  },
  {
   "cell_type": "code",
   "execution_count": 91,
   "id": "fec2063d",
   "metadata": {},
   "outputs": [],
   "source": [
    "def num():\n",
    "    x=10\n",
    "    def innerfunc():\n",
    "        return x"
   ]
  },
  {
   "cell_type": "code",
   "execution_count": 94,
   "id": "cec7bd91",
   "metadata": {},
   "outputs": [],
   "source": [
    "num()"
   ]
  },
  {
   "cell_type": "code",
   "execution_count": 103,
   "id": "3309db59",
   "metadata": {},
   "outputs": [],
   "source": [
    "def num():\n",
    "    x=10\n",
    "    def innerfunc():\n",
    "        return x\n",
    "    innerfunc()\n",
    "    return x"
   ]
  },
  {
   "cell_type": "code",
   "execution_count": 104,
   "id": "2780f78d",
   "metadata": {},
   "outputs": [
    {
     "data": {
      "text/plain": [
       "10"
      ]
     },
     "execution_count": 104,
     "metadata": {},
     "output_type": "execute_result"
    }
   ],
   "source": [
    "num()"
   ]
  },
  {
   "cell_type": "code",
   "execution_count": 111,
   "id": "ab9a6edc",
   "metadata": {},
   "outputs": [],
   "source": [
    "x=\"GLobal Value\"\n",
    "def num():\n",
    "    x=10\n",
    "    def fun():\n",
    "        return x\n",
    "    return fun()"
   ]
  },
  {
   "cell_type": "code",
   "execution_count": 112,
   "id": "3302bd64",
   "metadata": {},
   "outputs": [
    {
     "data": {
      "text/plain": [
       "10"
      ]
     },
     "execution_count": 112,
     "metadata": {},
     "output_type": "execute_result"
    }
   ],
   "source": [
    "num()"
   ]
  },
  {
   "cell_type": "code",
   "execution_count": 101,
   "id": "361ddab4",
   "metadata": {},
   "outputs": [
    {
     "ename": "NameError",
     "evalue": "name 'fun' is not defined",
     "output_type": "error",
     "traceback": [
      "\u001b[1;31m---------------------------------------------------------------------------\u001b[0m",
      "\u001b[1;31mNameError\u001b[0m                                 Traceback (most recent call last)",
      "\u001b[1;32m~\\AppData\\Local\\Temp\\ipykernel_10848\\806224721.py\u001b[0m in \u001b[0;36m<module>\u001b[1;34m\u001b[0m\n\u001b[1;32m----> 1\u001b[1;33m \u001b[0mnum\u001b[0m\u001b[1;33m(\u001b[0m\u001b[0mfun\u001b[0m\u001b[1;33m(\u001b[0m\u001b[1;33m)\u001b[0m\u001b[1;33m)\u001b[0m\u001b[1;33m\u001b[0m\u001b[1;33m\u001b[0m\u001b[0m\n\u001b[0m",
      "\u001b[1;31mNameError\u001b[0m: name 'fun' is not defined"
     ]
    }
   ],
   "source": [
    "num(fun())"
   ]
  },
  {
   "cell_type": "code",
   "execution_count": 102,
   "id": "18ae0db6",
   "metadata": {},
   "outputs": [
    {
     "ename": "NameError",
     "evalue": "name 'fun' is not defined",
     "output_type": "error",
     "traceback": [
      "\u001b[1;31m---------------------------------------------------------------------------\u001b[0m",
      "\u001b[1;31mNameError\u001b[0m                                 Traceback (most recent call last)",
      "\u001b[1;32m~\\AppData\\Local\\Temp\\ipykernel_10848\\529771688.py\u001b[0m in \u001b[0;36m<module>\u001b[1;34m\u001b[0m\n\u001b[1;32m----> 1\u001b[1;33m \u001b[0mfun\u001b[0m\u001b[1;33m(\u001b[0m\u001b[1;33m)\u001b[0m\u001b[1;33m\u001b[0m\u001b[1;33m\u001b[0m\u001b[0m\n\u001b[0m",
      "\u001b[1;31mNameError\u001b[0m: name 'fun' is not defined"
     ]
    }
   ],
   "source": [
    "fun()"
   ]
  },
  {
   "cell_type": "code",
   "execution_count": 5,
   "id": "db896007",
   "metadata": {},
   "outputs": [
    {
     "name": "stdout",
     "output_type": "stream",
     "text": [
      "Loacl Variable\n",
      "Global Variable\n"
     ]
    }
   ],
   "source": [
    "x=\"Global Variable\"\n",
    "def fun():\n",
    "    x=\"Loacl Variable\"\n",
    "    return x\n",
    "\n",
    "print(fun())\n",
    "print(x)"
   ]
  },
  {
   "cell_type": "code",
   "execution_count": 6,
   "id": "74ef5956",
   "metadata": {},
   "outputs": [
    {
     "name": "stdout",
     "output_type": "stream",
     "text": [
      "Loacl Variable\n",
      "Loacl Variable\n"
     ]
    }
   ],
   "source": [
    "x=\"Global Variable\"\n",
    "def fun():\n",
    "    global x\n",
    "    x=\"Loacl Variable\"\n",
    "    return x\n",
    "\n",
    "print(fun())\n",
    "print(x)"
   ]
  },
  {
   "cell_type": "code",
   "execution_count": null,
   "id": "1c8db0c3",
   "metadata": {},
   "outputs": [],
   "source": []
  }
 ],
 "metadata": {
  "kernelspec": {
   "display_name": "Python 3 (ipykernel)",
   "language": "python",
   "name": "python3"
  },
  "language_info": {
   "codemirror_mode": {
    "name": "ipython",
    "version": 3
   },
   "file_extension": ".py",
   "mimetype": "text/x-python",
   "name": "python",
   "nbconvert_exporter": "python",
   "pygments_lexer": "ipython3",
   "version": "3.9.13"
  }
 },
 "nbformat": 4,
 "nbformat_minor": 5
}
